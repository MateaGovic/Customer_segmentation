{
 "cells": [
  {
   "cell_type": "code",
   "execution_count": 1,
   "id": "a196e9fd",
   "metadata": {},
   "outputs": [],
   "source": [
    "# read_sql function\n",
    "import pandas as pd \n",
    "\n",
    "#visualisation\n",
    "from matplotlib import pyplot as plt\n",
    "\n",
    "\n",
    "# Redshift and .env file\n",
    "import psycopg2\n",
    "import os\n",
    "from dotenv import load_dotenv\n",
    "load_dotenv()\n",
    "\n",
    "dbname = os.getenv(\"dbname\")\n",
    "host = os.getenv(\"host\")\n",
    "port = os.getenv(\"port\")\n",
    "user = os.getenv(\"user\")\n",
    "password = os.getenv(\"password\")\n",
    "\n",
    "#warnings\n",
    "import warnings\n",
    "warnings.filterwarnings(\"ignore\")"
   ]
  },
  {
   "cell_type": "code",
   "execution_count": 2,
   "id": "5b26f669",
   "metadata": {},
   "outputs": [],
   "source": [
    "# check it worked\n",
    "print(user)"
   ]
  },
  {
   "cell_type": "code",
   "execution_count": 4,
   "id": "f148f3ce",
   "metadata": {},
   "outputs": [],
   "source": [
    "# connect to redshift - by import the definition from the src foldr\n",
    "connect = connect_to_redshift(dbname, host, port, user, password)"
   ]
  },
  {
   "cell_type": "code",
   "execution_count": 6,
   "id": "07a2b3b2",
   "metadata": {},
   "outputs": [],
   "source": [
    "# sql query to get customer data from the online_transaction_cleaned table \n",
    "\n",
    "query = \"\"\"\n",
    "        select otc.* \n",
    "        from bootcamp.online_transactions_cleaned otc\n",
    "        \"\"\"\n",
    "\n",
    "data = pd.read_sql(query, connect)"
   ]
  },
  {
   "cell_type": "code",
   "execution_count": 7,
   "id": "3daef946",
   "metadata": {},
   "outputs": [
    {
     "data": {
      "text/html": [
       "<div>\n",
       "<style scoped>\n",
       "    .dataframe tbody tr th:only-of-type {\n",
       "        vertical-align: middle;\n",
       "    }\n",
       "\n",
       "    .dataframe tbody tr th {\n",
       "        vertical-align: top;\n",
       "    }\n",
       "\n",
       "    .dataframe thead th {\n",
       "        text-align: right;\n",
       "    }\n",
       "</style>\n",
       "<table border=\"1\" class=\"dataframe\">\n",
       "  <thead>\n",
       "    <tr style=\"text-align: right;\">\n",
       "      <th></th>\n",
       "      <th>invoice</th>\n",
       "      <th>stock_code</th>\n",
       "      <th>description</th>\n",
       "      <th>price</th>\n",
       "      <th>quantity</th>\n",
       "      <th>total_order_value</th>\n",
       "      <th>invoice_date</th>\n",
       "      <th>customer_id</th>\n",
       "      <th>country</th>\n",
       "    </tr>\n",
       "  </thead>\n",
       "  <tbody>\n",
       "    <tr>\n",
       "      <th>0</th>\n",
       "      <td>536381</td>\n",
       "      <td>37444A</td>\n",
       "      <td>YELLOW BREAKFAST CUP AND SAUCER</td>\n",
       "      <td>2.95</td>\n",
       "      <td>1</td>\n",
       "      <td>2.95</td>\n",
       "      <td>2010-12-01 09:41:00</td>\n",
       "      <td>u15311</td>\n",
       "      <td>United Kingdom</td>\n",
       "    </tr>\n",
       "    <tr>\n",
       "      <th>1</th>\n",
       "      <td>536384</td>\n",
       "      <td>22189</td>\n",
       "      <td>CREAM HEART CARD HOLDER</td>\n",
       "      <td>3.95</td>\n",
       "      <td>4</td>\n",
       "      <td>15.80</td>\n",
       "      <td>2010-12-01 09:53:00</td>\n",
       "      <td>u18074</td>\n",
       "      <td>United Kingdom</td>\n",
       "    </tr>\n",
       "    <tr>\n",
       "      <th>2</th>\n",
       "      <td>536390</td>\n",
       "      <td>22960</td>\n",
       "      <td>JAM MAKING SET WITH JARS</td>\n",
       "      <td>3.75</td>\n",
       "      <td>12</td>\n",
       "      <td>45.00</td>\n",
       "      <td>2010-12-01 10:19:00</td>\n",
       "      <td>u17511</td>\n",
       "      <td>United Kingdom</td>\n",
       "    </tr>\n",
       "    <tr>\n",
       "      <th>3</th>\n",
       "      <td>536392</td>\n",
       "      <td>21891</td>\n",
       "      <td>TRADITIONAL WOODEN SKIPPING ROPE</td>\n",
       "      <td>1.25</td>\n",
       "      <td>12</td>\n",
       "      <td>15.00</td>\n",
       "      <td>2010-12-01 10:29:00</td>\n",
       "      <td>u13705</td>\n",
       "      <td>United Kingdom</td>\n",
       "    </tr>\n",
       "    <tr>\n",
       "      <th>4</th>\n",
       "      <td>536396</td>\n",
       "      <td>82494L</td>\n",
       "      <td>WOODEN FRAME ANTIQUE WHITE</td>\n",
       "      <td>2.55</td>\n",
       "      <td>12</td>\n",
       "      <td>30.60</td>\n",
       "      <td>2010-12-01 10:51:00</td>\n",
       "      <td>u1785</td>\n",
       "      <td>United Kingdom</td>\n",
       "    </tr>\n",
       "  </tbody>\n",
       "</table>\n",
       "</div>"
      ],
      "text/plain": [
       "  invoice stock_code                       description  price  quantity  \\\n",
       "0  536381     37444A   YELLOW BREAKFAST CUP AND SAUCER   2.95         1   \n",
       "1  536384      22189           CREAM HEART CARD HOLDER   3.95         4   \n",
       "2  536390      22960          JAM MAKING SET WITH JARS   3.75        12   \n",
       "3  536392      21891  TRADITIONAL WOODEN SKIPPING ROPE   1.25        12   \n",
       "4  536396     82494L       WOODEN FRAME ANTIQUE WHITE    2.55        12   \n",
       "\n",
       "   total_order_value        invoice_date customer_id         country  \n",
       "0               2.95 2010-12-01 09:41:00      u15311  United Kingdom  \n",
       "1              15.80 2010-12-01 09:53:00      u18074  United Kingdom  \n",
       "2              45.00 2010-12-01 10:19:00      u17511  United Kingdom  \n",
       "3              15.00 2010-12-01 10:29:00      u13705  United Kingdom  \n",
       "4              30.60 2010-12-01 10:51:00       u1785  United Kingdom  "
      ]
     },
     "execution_count": 7,
     "metadata": {},
     "output_type": "execute_result"
    }
   ],
   "source": [
    "data.head()"
   ]
  },
  {
   "cell_type": "code",
   "execution_count": 8,
   "id": "805d4845",
   "metadata": {},
   "outputs": [
    {
     "data": {
      "text/plain": [
       "(399841, 9)"
      ]
     },
     "execution_count": 8,
     "metadata": {},
     "output_type": "execute_result"
    }
   ],
   "source": [
    "data.shape"
   ]
  },
  {
   "cell_type": "code",
   "execution_count": 9,
   "id": "e590bf1e",
   "metadata": {},
   "outputs": [
    {
     "data": {
      "text/plain": [
       "invoice                      object\n",
       "stock_code                   object\n",
       "description                  object\n",
       "price                       float64\n",
       "quantity                      int64\n",
       "total_order_value           float64\n",
       "invoice_date         datetime64[ns]\n",
       "customer_id                  object\n",
       "country                      object\n",
       "dtype: object"
      ]
     },
     "execution_count": 9,
     "metadata": {},
     "output_type": "execute_result"
    }
   ],
   "source": [
    "data.dtypes"
   ]
  },
  {
   "cell_type": "code",
   "execution_count": 10,
   "id": "02aef2cf",
   "metadata": {},
   "outputs": [
    {
     "data": {
      "text/html": [
       "<div>\n",
       "<style scoped>\n",
       "    .dataframe tbody tr th:only-of-type {\n",
       "        vertical-align: middle;\n",
       "    }\n",
       "\n",
       "    .dataframe tbody tr th {\n",
       "        vertical-align: top;\n",
       "    }\n",
       "\n",
       "    .dataframe thead th {\n",
       "        text-align: right;\n",
       "    }\n",
       "</style>\n",
       "<table border=\"1\" class=\"dataframe\">\n",
       "  <thead>\n",
       "    <tr style=\"text-align: right;\">\n",
       "      <th></th>\n",
       "      <th>price</th>\n",
       "      <th>quantity</th>\n",
       "      <th>total_order_value</th>\n",
       "    </tr>\n",
       "  </thead>\n",
       "  <tbody>\n",
       "    <tr>\n",
       "      <th>count</th>\n",
       "      <td>399841.000000</td>\n",
       "      <td>399841.000000</td>\n",
       "      <td>399841.000000</td>\n",
       "    </tr>\n",
       "    <tr>\n",
       "      <th>mean</th>\n",
       "      <td>2.952914</td>\n",
       "      <td>12.224359</td>\n",
       "      <td>20.716904</td>\n",
       "    </tr>\n",
       "    <tr>\n",
       "      <th>std</th>\n",
       "      <td>7.317593</td>\n",
       "      <td>250.788860</td>\n",
       "      <td>425.471765</td>\n",
       "    </tr>\n",
       "    <tr>\n",
       "      <th>min</th>\n",
       "      <td>0.000000</td>\n",
       "      <td>-80995.000000</td>\n",
       "      <td>-168469.600000</td>\n",
       "    </tr>\n",
       "    <tr>\n",
       "      <th>25%</th>\n",
       "      <td>1.250000</td>\n",
       "      <td>2.000000</td>\n",
       "      <td>4.250000</td>\n",
       "    </tr>\n",
       "    <tr>\n",
       "      <th>50%</th>\n",
       "      <td>1.950000</td>\n",
       "      <td>5.000000</td>\n",
       "      <td>11.580000</td>\n",
       "    </tr>\n",
       "    <tr>\n",
       "      <th>75%</th>\n",
       "      <td>3.750000</td>\n",
       "      <td>12.000000</td>\n",
       "      <td>19.500000</td>\n",
       "    </tr>\n",
       "    <tr>\n",
       "      <th>max</th>\n",
       "      <td>1599.260000</td>\n",
       "      <td>80995.000000</td>\n",
       "      <td>168469.600000</td>\n",
       "    </tr>\n",
       "  </tbody>\n",
       "</table>\n",
       "</div>"
      ],
      "text/plain": [
       "               price       quantity  total_order_value\n",
       "count  399841.000000  399841.000000      399841.000000\n",
       "mean        2.952914      12.224359          20.716904\n",
       "std         7.317593     250.788860         425.471765\n",
       "min         0.000000  -80995.000000     -168469.600000\n",
       "25%         1.250000       2.000000           4.250000\n",
       "50%         1.950000       5.000000          11.580000\n",
       "75%         3.750000      12.000000          19.500000\n",
       "max      1599.260000   80995.000000      168469.600000"
      ]
     },
     "execution_count": 10,
     "metadata": {},
     "output_type": "execute_result"
    }
   ],
   "source": [
    "data.describe()"
   ]
  },
  {
   "cell_type": "code",
   "execution_count": 11,
   "id": "16926b91",
   "metadata": {},
   "outputs": [
    {
     "data": {
      "text/plain": [
       "invoice              0\n",
       "stock_code           0\n",
       "description          0\n",
       "price                0\n",
       "quantity             0\n",
       "total_order_value    0\n",
       "invoice_date         0\n",
       "customer_id          0\n",
       "country              0\n",
       "dtype: int64"
      ]
     },
     "execution_count": 11,
     "metadata": {},
     "output_type": "execute_result"
    }
   ],
   "source": [
    "data.isnull().sum()"
   ]
  },
  {
   "cell_type": "code",
   "execution_count": 12,
   "id": "83d75a5b",
   "metadata": {},
   "outputs": [
    {
     "data": {
      "text/plain": [
       "country\n",
       "United Kingdom    3943\n",
       "Germany             95\n",
       "France              87\n",
       "Spain               30\n",
       "Belgium             25\n",
       "Switzerland         21\n",
       "Portugal            19\n",
       "Italy               14\n",
       "Finland             12\n",
       "Austria             11\n",
       "Name: customer_id, dtype: int64"
      ]
     },
     "execution_count": 12,
     "metadata": {},
     "output_type": "execute_result"
    }
   ],
   "source": [
    "#What are the top ten most popular geographical locations?\n",
    "\n",
    "top_locations = data.groupby('country').customer_id.nunique().sort_values(ascending=False).head(10)\n",
    "top_locations\n"
   ]
  },
  {
   "cell_type": "code",
   "execution_count": 13,
   "id": "1dbb21c4",
   "metadata": {},
   "outputs": [
    {
     "data": {
      "text/plain": [
       "country\n",
       "United Kingdom    6815375.09\n",
       "Netherlands        283479.54\n",
       "EIRE               251557.47\n",
       "Germany            200619.66\n",
       "France             181571.54\n",
       "Australia          136922.50\n",
       "Switzerland         51859.40\n",
       "Spain               51746.65\n",
       "Belgium             36662.96\n",
       "Japan               35419.79\n",
       "Name: total_order_value, dtype: float64"
      ]
     },
     "execution_count": 13,
     "metadata": {},
     "output_type": "execute_result"
    }
   ],
   "source": [
    "#Which country spends the most (you can look at price, quantity or order value i.e. price * quantity)?\n",
    "\n",
    "top_spender = data.groupby('country').total_order_value.sum().sort_values(ascending=False).round(2).head(10)\n",
    "top_spender"
   ]
  },
  {
   "cell_type": "code",
   "execution_count": 14,
   "id": "9935ad25",
   "metadata": {},
   "outputs": [
    {
     "data": {
      "text/plain": [
       "8283467.0"
      ]
     },
     "execution_count": 14,
     "metadata": {},
     "output_type": "execute_result"
    }
   ],
   "source": [
    "data.total_order_value.sum().round()"
   ]
  },
  {
   "cell_type": "code",
   "execution_count": 15,
   "id": "555fda66",
   "metadata": {},
   "outputs": [
    {
     "data": {
      "text/plain": [
       "21791"
      ]
     },
     "execution_count": 15,
     "metadata": {},
     "output_type": "execute_result"
    }
   ],
   "source": [
    "data.invoice.nunique()"
   ]
  },
  {
   "cell_type": "code",
   "execution_count": 16,
   "id": "f6911839",
   "metadata": {},
   "outputs": [
    {
     "data": {
      "text/html": [
       "<div>\n",
       "<style scoped>\n",
       "    .dataframe tbody tr th:only-of-type {\n",
       "        vertical-align: middle;\n",
       "    }\n",
       "\n",
       "    .dataframe tbody tr th {\n",
       "        vertical-align: top;\n",
       "    }\n",
       "\n",
       "    .dataframe thead th {\n",
       "        text-align: right;\n",
       "    }\n",
       "</style>\n",
       "<table border=\"1\" class=\"dataframe\">\n",
       "  <thead>\n",
       "    <tr style=\"text-align: right;\">\n",
       "      <th></th>\n",
       "      <th>invoice</th>\n",
       "      <th>stock_code</th>\n",
       "      <th>description</th>\n",
       "      <th>price</th>\n",
       "      <th>quantity</th>\n",
       "      <th>total_order_value</th>\n",
       "      <th>invoice_date</th>\n",
       "      <th>customer_id</th>\n",
       "      <th>country</th>\n",
       "      <th>year</th>\n",
       "      <th>month</th>\n",
       "    </tr>\n",
       "  </thead>\n",
       "  <tbody>\n",
       "    <tr>\n",
       "      <th>0</th>\n",
       "      <td>536381</td>\n",
       "      <td>37444A</td>\n",
       "      <td>YELLOW BREAKFAST CUP AND SAUCER</td>\n",
       "      <td>2.95</td>\n",
       "      <td>1</td>\n",
       "      <td>2.95</td>\n",
       "      <td>2010-12-01 09:41:00</td>\n",
       "      <td>u15311</td>\n",
       "      <td>United Kingdom</td>\n",
       "      <td>2010</td>\n",
       "      <td>12</td>\n",
       "    </tr>\n",
       "  </tbody>\n",
       "</table>\n",
       "</div>"
      ],
      "text/plain": [
       "  invoice stock_code                      description  price  quantity  \\\n",
       "0  536381     37444A  YELLOW BREAKFAST CUP AND SAUCER   2.95         1   \n",
       "\n",
       "   total_order_value        invoice_date customer_id         country  year  \\\n",
       "0               2.95 2010-12-01 09:41:00      u15311  United Kingdom  2010   \n",
       "\n",
       "   month  \n",
       "0     12  "
      ]
     },
     "execution_count": 16,
     "metadata": {},
     "output_type": "execute_result"
    }
   ],
   "source": [
    "#Visualize the distribution of Invoices per month?\n",
    "\n",
    "#divide years (2010 and 2011)\n",
    "#extract year and month\n",
    "\n",
    "data['year'] = data['invoice_date'].dt.year\n",
    "data['month'] = data['invoice_date'].dt.month\n",
    "data.head(1)"
   ]
  },
  {
   "cell_type": "code",
   "execution_count": 17,
   "id": "7a12bbd3",
   "metadata": {},
   "outputs": [
    {
     "data": {
      "text/html": [
       "<div>\n",
       "<style scoped>\n",
       "    .dataframe tbody tr th:only-of-type {\n",
       "        vertical-align: middle;\n",
       "    }\n",
       "\n",
       "    .dataframe tbody tr th {\n",
       "        vertical-align: top;\n",
       "    }\n",
       "\n",
       "    .dataframe thead th {\n",
       "        text-align: right;\n",
       "    }\n",
       "</style>\n",
       "<table border=\"1\" class=\"dataframe\">\n",
       "  <thead>\n",
       "    <tr style=\"text-align: right;\">\n",
       "      <th></th>\n",
       "      <th>invoice</th>\n",
       "      <th>stock_code</th>\n",
       "      <th>description</th>\n",
       "      <th>price</th>\n",
       "      <th>quantity</th>\n",
       "      <th>total_order_value</th>\n",
       "      <th>invoice_date</th>\n",
       "      <th>customer_id</th>\n",
       "      <th>country</th>\n",
       "      <th>year</th>\n",
       "      <th>month</th>\n",
       "    </tr>\n",
       "  </thead>\n",
       "  <tbody>\n",
       "    <tr>\n",
       "      <th>0</th>\n",
       "      <td>536381</td>\n",
       "      <td>37444A</td>\n",
       "      <td>YELLOW BREAKFAST CUP AND SAUCER</td>\n",
       "      <td>2.95</td>\n",
       "      <td>1</td>\n",
       "      <td>2.95</td>\n",
       "      <td>2010-12-01 09:41:00</td>\n",
       "      <td>u15311</td>\n",
       "      <td>United Kingdom</td>\n",
       "      <td>2010</td>\n",
       "      <td>12</td>\n",
       "    </tr>\n",
       "  </tbody>\n",
       "</table>\n",
       "</div>"
      ],
      "text/plain": [
       "  invoice stock_code                      description  price  quantity  \\\n",
       "0  536381     37444A  YELLOW BREAKFAST CUP AND SAUCER   2.95         1   \n",
       "\n",
       "   total_order_value        invoice_date customer_id         country  year  \\\n",
       "0               2.95 2010-12-01 09:41:00      u15311  United Kingdom  2010   \n",
       "\n",
       "   month  \n",
       "0     12  "
      ]
     },
     "execution_count": 17,
     "metadata": {},
     "output_type": "execute_result"
    }
   ],
   "source": [
    "#table 2010\n",
    "data2010 = data.loc[data['year']==2010]\n",
    "data2010.head(1)"
   ]
  },
  {
   "cell_type": "code",
   "execution_count": 18,
   "id": "4ba8d6a7",
   "metadata": {},
   "outputs": [
    {
     "data": {
      "text/html": [
       "<div>\n",
       "<style scoped>\n",
       "    .dataframe tbody tr th:only-of-type {\n",
       "        vertical-align: middle;\n",
       "    }\n",
       "\n",
       "    .dataframe tbody tr th {\n",
       "        vertical-align: top;\n",
       "    }\n",
       "\n",
       "    .dataframe thead th {\n",
       "        text-align: right;\n",
       "    }\n",
       "</style>\n",
       "<table border=\"1\" class=\"dataframe\">\n",
       "  <thead>\n",
       "    <tr style=\"text-align: right;\">\n",
       "      <th></th>\n",
       "      <th>invoice</th>\n",
       "      <th>stock_code</th>\n",
       "      <th>description</th>\n",
       "      <th>price</th>\n",
       "      <th>quantity</th>\n",
       "      <th>total_order_value</th>\n",
       "      <th>invoice_date</th>\n",
       "      <th>customer_id</th>\n",
       "      <th>country</th>\n",
       "      <th>year</th>\n",
       "      <th>month</th>\n",
       "    </tr>\n",
       "  </thead>\n",
       "  <tbody>\n",
       "    <tr>\n",
       "      <th>6984</th>\n",
       "      <td>540014</td>\n",
       "      <td>84499</td>\n",
       "      <td>BLACK FLOWER CANDLE PLATE</td>\n",
       "      <td>0.85</td>\n",
       "      <td>6</td>\n",
       "      <td>5.1</td>\n",
       "      <td>2011-01-04 11:34:00</td>\n",
       "      <td>u14606</td>\n",
       "      <td>United Kingdom</td>\n",
       "      <td>2011</td>\n",
       "      <td>1</td>\n",
       "    </tr>\n",
       "  </tbody>\n",
       "</table>\n",
       "</div>"
      ],
      "text/plain": [
       "     invoice stock_code                description  price  quantity  \\\n",
       "6984  540014      84499  BLACK FLOWER CANDLE PLATE   0.85         6   \n",
       "\n",
       "      total_order_value        invoice_date customer_id         country  year  \\\n",
       "6984                5.1 2011-01-04 11:34:00      u14606  United Kingdom  2011   \n",
       "\n",
       "      month  \n",
       "6984      1  "
      ]
     },
     "execution_count": 18,
     "metadata": {},
     "output_type": "execute_result"
    }
   ],
   "source": [
    "#table 2011\n",
    "data2011 = data.loc[data['year']==2011]\n",
    "data2011.head(1)"
   ]
  },
  {
   "cell_type": "code",
   "execution_count": 19,
   "id": "06194a73",
   "metadata": {},
   "outputs": [
    {
     "data": {
      "text/plain": [
       "month\n",
       "1     1225\n",
       "2     1181\n",
       "3     1588\n",
       "4     1358\n",
       "5     1808\n",
       "6     1686\n",
       "7     1555\n",
       "8     1506\n",
       "9     2038\n",
       "10    2208\n",
       "11    3034\n",
       "12     912\n",
       "Name: invoice, dtype: int64"
      ]
     },
     "execution_count": 19,
     "metadata": {},
     "output_type": "execute_result"
    }
   ],
   "source": [
    "# monthly invoices 2011 (for 2010. we have just December)\n",
    "monthly_invoices = data2011.groupby('month').invoice.nunique()\n",
    "monthly_invoices"
   ]
  },
  {
   "cell_type": "code",
   "execution_count": 20,
   "id": "6adc99d6",
   "metadata": {},
   "outputs": [
    {
     "data": {
      "image/png": "[encoded data removed]",
      "text/plain": [
       "<Figure size 640x480 with 1 Axes>"
      ]
     },
     "metadata": {},
     "output_type": "display_data"
    }
   ],
   "source": [
    "#Visualisation Invoices per month, 2011\n",
    "fig = plt.figure()\n",
    "ax = fig.add_axes([0,0,2,1]) \n",
    "ax.bar(monthly_invoices.index, monthly_invoices, color='red', width=0.8)\n",
    "ax.set_title('Invoices per month (2011)', fontsize=28, fontweight='bold')\n",
    "ax.set_xticks(range(1,13))\n",
    "ax.set_xticklabels(['1','2','3','4','5','6','7','8','9','10','11','12'])\n",
    "ax.set_xlabel('Month')\n",
    "ax.set_ylabel('Number of invoices')\n",
    "fig.show()"
   ]
  },
  {
   "cell_type": "code",
   "execution_count": 21,
   "id": "f387bcdf",
   "metadata": {},
   "outputs": [
    {
     "data": {
      "text/plain": [
       "month\n",
       "11    3034\n",
       "Name: invoice, dtype: int64"
      ]
     },
     "execution_count": 21,
     "metadata": {},
     "output_type": "execute_result"
    }
   ],
   "source": [
    "#Which month has the highest number of transactions?\n",
    "\n",
    "monthly_invoices_2011 = data2011.groupby('month').invoice.nunique().sort_values(ascending=False).head(1)\n",
    "monthly_invoices_2011"
   ]
  },
  {
   "cell_type": "code",
   "execution_count": 22,
   "id": "1ed9d07b",
   "metadata": {},
   "outputs": [
    {
     "data": {
      "text/html": [
       "<div>\n",
       "<style scoped>\n",
       "    .dataframe tbody tr th:only-of-type {\n",
       "        vertical-align: middle;\n",
       "    }\n",
       "\n",
       "    .dataframe tbody tr th {\n",
       "        vertical-align: top;\n",
       "    }\n",
       "\n",
       "    .dataframe thead th {\n",
       "        text-align: right;\n",
       "    }\n",
       "</style>\n",
       "<table border=\"1\" class=\"dataframe\">\n",
       "  <thead>\n",
       "    <tr style=\"text-align: right;\">\n",
       "      <th></th>\n",
       "      <th>invoice</th>\n",
       "      <th>stock_code</th>\n",
       "      <th>description</th>\n",
       "      <th>price</th>\n",
       "      <th>quantity</th>\n",
       "      <th>total_order_value</th>\n",
       "      <th>invoice_date</th>\n",
       "      <th>customer_id</th>\n",
       "      <th>country</th>\n",
       "      <th>year</th>\n",
       "      <th>month</th>\n",
       "      <th>dow</th>\n",
       "    </tr>\n",
       "  </thead>\n",
       "  <tbody>\n",
       "    <tr>\n",
       "      <th>0</th>\n",
       "      <td>536381</td>\n",
       "      <td>37444A</td>\n",
       "      <td>YELLOW BREAKFAST CUP AND SAUCER</td>\n",
       "      <td>2.95</td>\n",
       "      <td>1</td>\n",
       "      <td>2.95</td>\n",
       "      <td>2010-12-01 09:41:00</td>\n",
       "      <td>u15311</td>\n",
       "      <td>United Kingdom</td>\n",
       "      <td>2010</td>\n",
       "      <td>12</td>\n",
       "      <td>Wednesday</td>\n",
       "    </tr>\n",
       "    <tr>\n",
       "      <th>1</th>\n",
       "      <td>536384</td>\n",
       "      <td>22189</td>\n",
       "      <td>CREAM HEART CARD HOLDER</td>\n",
       "      <td>3.95</td>\n",
       "      <td>4</td>\n",
       "      <td>15.80</td>\n",
       "      <td>2010-12-01 09:53:00</td>\n",
       "      <td>u18074</td>\n",
       "      <td>United Kingdom</td>\n",
       "      <td>2010</td>\n",
       "      <td>12</td>\n",
       "      <td>Wednesday</td>\n",
       "    </tr>\n",
       "    <tr>\n",
       "      <th>2</th>\n",
       "      <td>536390</td>\n",
       "      <td>22960</td>\n",
       "      <td>JAM MAKING SET WITH JARS</td>\n",
       "      <td>3.75</td>\n",
       "      <td>12</td>\n",
       "      <td>45.00</td>\n",
       "      <td>2010-12-01 10:19:00</td>\n",
       "      <td>u17511</td>\n",
       "      <td>United Kingdom</td>\n",
       "      <td>2010</td>\n",
       "      <td>12</td>\n",
       "      <td>Wednesday</td>\n",
       "    </tr>\n",
       "    <tr>\n",
       "      <th>3</th>\n",
       "      <td>536392</td>\n",
       "      <td>21891</td>\n",
       "      <td>TRADITIONAL WOODEN SKIPPING ROPE</td>\n",
       "      <td>1.25</td>\n",
       "      <td>12</td>\n",
       "      <td>15.00</td>\n",
       "      <td>2010-12-01 10:29:00</td>\n",
       "      <td>u13705</td>\n",
       "      <td>United Kingdom</td>\n",
       "      <td>2010</td>\n",
       "      <td>12</td>\n",
       "      <td>Wednesday</td>\n",
       "    </tr>\n",
       "    <tr>\n",
       "      <th>4</th>\n",
       "      <td>536396</td>\n",
       "      <td>82494L</td>\n",
       "      <td>WOODEN FRAME ANTIQUE WHITE</td>\n",
       "      <td>2.55</td>\n",
       "      <td>12</td>\n",
       "      <td>30.60</td>\n",
       "      <td>2010-12-01 10:51:00</td>\n",
       "      <td>u1785</td>\n",
       "      <td>United Kingdom</td>\n",
       "      <td>2010</td>\n",
       "      <td>12</td>\n",
       "      <td>Wednesday</td>\n",
       "    </tr>\n",
       "  </tbody>\n",
       "</table>\n",
       "</div>"
      ],
      "text/plain": [
       "  invoice stock_code                       description  price  quantity  \\\n",
       "0  536381     37444A   YELLOW BREAKFAST CUP AND SAUCER   2.95         1   \n",
       "1  536384      22189           CREAM HEART CARD HOLDER   3.95         4   \n",
       "2  536390      22960          JAM MAKING SET WITH JARS   3.75        12   \n",
       "3  536392      21891  TRADITIONAL WOODEN SKIPPING ROPE   1.25        12   \n",
       "4  536396     82494L       WOODEN FRAME ANTIQUE WHITE    2.55        12   \n",
       "\n",
       "   total_order_value        invoice_date customer_id         country  year  \\\n",
       "0               2.95 2010-12-01 09:41:00      u15311  United Kingdom  2010   \n",
       "1              15.80 2010-12-01 09:53:00      u18074  United Kingdom  2010   \n",
       "2              45.00 2010-12-01 10:19:00      u17511  United Kingdom  2010   \n",
       "3              15.00 2010-12-01 10:29:00      u13705  United Kingdom  2010   \n",
       "4              30.60 2010-12-01 10:51:00       u1785  United Kingdom  2010   \n",
       "\n",
       "   month        dow  \n",
       "0     12  Wednesday  \n",
       "1     12  Wednesday  \n",
       "2     12  Wednesday  \n",
       "3     12  Wednesday  \n",
       "4     12  Wednesday  "
      ]
     },
     "execution_count": 22,
     "metadata": {},
     "output_type": "execute_result"
    }
   ],
   "source": [
    "#Which day of the week has the highest number of transactions?\n",
    "\n",
    "#extract the day\n",
    "\n",
    "data['dow'] = data['invoice_date'].dt.day_name()\n",
    "data.head()"
   ]
  },
  {
   "cell_type": "code",
   "execution_count": 23,
   "id": "c95b53a8",
   "metadata": {},
   "outputs": [
    {
     "data": {
      "text/plain": [
       "dow\n",
       "Thursday     4888\n",
       "Wednesday    4045\n",
       "Tuesday      3812\n",
       "Monday       3418\n",
       "Friday       3294\n",
       "Sunday       2334\n",
       "Name: invoice, dtype: int64"
      ]
     },
     "execution_count": 23,
     "metadata": {},
     "output_type": "execute_result"
    }
   ],
   "source": [
    "#calculate invoices per day (2010 and 2011)\n",
    "invoices_per_day = data.groupby('dow').invoice.nunique().sort_values(ascending=False).head(7)\n",
    "invoices_per_day"
   ]
  },
  {
   "cell_type": "code",
   "execution_count": 24,
   "id": "3b43d707",
   "metadata": {},
   "outputs": [
    {
     "data": {
      "text/plain": [
       "dow\n",
       "Thursday     4430\n",
       "Wednesday    3678\n",
       "Tuesday      3570\n",
       "Monday       3156\n",
       "Friday       3094\n",
       "Sunday       2171\n",
       "Name: invoice, dtype: int64"
      ]
     },
     "execution_count": 24,
     "metadata": {},
     "output_type": "execute_result"
    }
   ],
   "source": [
    "#visualise invoices per day for 2011\n",
    "\n",
    "#interesting to ntice, there are no invoices at Saturdays\n",
    "\n",
    "data2011['dow'] = data2011['invoice_date'].dt.day_name() #extract the day for 2011\n",
    "\n",
    "top_day_2011 = data2011.groupby('dow').invoice.nunique().sort_values(ascending=False).head(7)\n",
    "top_day_2011"
   ]
  },
  {
   "cell_type": "code",
   "execution_count": 25,
   "id": "633546b7",
   "metadata": {},
   "outputs": [
    {
     "data": {
      "image/png": "[encoded data removed]",
      "text/plain": [
       "<Figure size 640x480 with 1 Axes>"
      ]
     },
     "metadata": {},
     "output_type": "display_data"
    }
   ],
   "source": [
    "#visualisation invoices per day \n",
    "\n",
    "fig = plt.figure()\n",
    "ax = fig.add_axes([0,0,2,1]) \n",
    "ax.bar(top_day_2011.index, top_day_2011, color='red', width=0.5)\n",
    "ax.set_title('Invoices per day (2011)', fontsize=28, fontweight='bold')\n",
    "ax.set_xticks(range(0,6))\n",
    "ax.set_xlabel('Day of week')\n",
    "ax.set_ylabel('Number of invoices')\n",
    "fig.show()"
   ]
  },
  {
   "cell_type": "code",
   "execution_count": 26,
   "id": "b4cc5b18",
   "metadata": {},
   "outputs": [
    {
     "data": {
      "text/html": [
       "<div>\n",
       "<style scoped>\n",
       "    .dataframe tbody tr th:only-of-type {\n",
       "        vertical-align: middle;\n",
       "    }\n",
       "\n",
       "    .dataframe tbody tr th {\n",
       "        vertical-align: top;\n",
       "    }\n",
       "\n",
       "    .dataframe thead th {\n",
       "        text-align: right;\n",
       "    }\n",
       "</style>\n",
       "<table border=\"1\" class=\"dataframe\">\n",
       "  <thead>\n",
       "    <tr style=\"text-align: right;\">\n",
       "      <th></th>\n",
       "      <th>invoice</th>\n",
       "      <th>stock_code</th>\n",
       "      <th>description</th>\n",
       "      <th>price</th>\n",
       "      <th>quantity</th>\n",
       "      <th>total_order_value</th>\n",
       "      <th>invoice_date</th>\n",
       "      <th>customer_id</th>\n",
       "      <th>country</th>\n",
       "      <th>year</th>\n",
       "      <th>month</th>\n",
       "      <th>dow</th>\n",
       "    </tr>\n",
       "  </thead>\n",
       "  <tbody>\n",
       "  </tbody>\n",
       "</table>\n",
       "</div>"
      ],
      "text/plain": [
       "Empty DataFrame\n",
       "Columns: [invoice, stock_code, description, price, quantity, total_order_value, invoice_date, customer_id, country, year, month, dow]\n",
       "Index: []"
      ]
     },
     "execution_count": 26,
     "metadata": {},
     "output_type": "execute_result"
    }
   ],
   "source": [
    "data2011.loc[data2011.dow == 'Saturday'].head()"
   ]
  },
  {
   "cell_type": "code",
   "execution_count": 27,
   "id": "35b001a2",
   "metadata": {},
   "outputs": [
    {
     "data": {
      "text/html": [
       "<div>\n",
       "<style scoped>\n",
       "    .dataframe tbody tr th:only-of-type {\n",
       "        vertical-align: middle;\n",
       "    }\n",
       "\n",
       "    .dataframe tbody tr th {\n",
       "        vertical-align: top;\n",
       "    }\n",
       "\n",
       "    .dataframe thead th {\n",
       "        text-align: right;\n",
       "    }\n",
       "</style>\n",
       "<table border=\"1\" class=\"dataframe\">\n",
       "  <thead>\n",
       "    <tr style=\"text-align: right;\">\n",
       "      <th></th>\n",
       "      <th>invoice</th>\n",
       "      <th>stock_code</th>\n",
       "      <th>description</th>\n",
       "      <th>price</th>\n",
       "      <th>quantity</th>\n",
       "      <th>total_order_value</th>\n",
       "      <th>invoice_date</th>\n",
       "      <th>customer_id</th>\n",
       "      <th>country</th>\n",
       "      <th>year</th>\n",
       "      <th>month</th>\n",
       "      <th>dow</th>\n",
       "    </tr>\n",
       "  </thead>\n",
       "  <tbody>\n",
       "    <tr>\n",
       "      <th>0</th>\n",
       "      <td>536381</td>\n",
       "      <td>37444A</td>\n",
       "      <td>YELLOW BREAKFAST CUP AND SAUCER</td>\n",
       "      <td>2.95</td>\n",
       "      <td>1</td>\n",
       "      <td>2.95</td>\n",
       "      <td>2010-12-01 09:41:00</td>\n",
       "      <td>u15311</td>\n",
       "      <td>United Kingdom</td>\n",
       "      <td>2010</td>\n",
       "      <td>12</td>\n",
       "      <td>Wednesday</td>\n",
       "    </tr>\n",
       "  </tbody>\n",
       "</table>\n",
       "</div>"
      ],
      "text/plain": [
       "  invoice stock_code                      description  price  quantity  \\\n",
       "0  536381     37444A  YELLOW BREAKFAST CUP AND SAUCER   2.95         1   \n",
       "\n",
       "   total_order_value        invoice_date customer_id         country  year  \\\n",
       "0               2.95 2010-12-01 09:41:00      u15311  United Kingdom  2010   \n",
       "\n",
       "   month        dow  \n",
       "0     12  Wednesday  "
      ]
     },
     "execution_count": 27,
     "metadata": {},
     "output_type": "execute_result"
    }
   ],
   "source": [
    "data2010['dow'] = data2010['invoice_date'].dt.day_name()\n",
    "data2010.head(1)"
   ]
  },
  {
   "cell_type": "code",
   "execution_count": 28,
   "id": "1ddcd7ac",
   "metadata": {},
   "outputs": [
    {
     "data": {
      "text/plain": [
       "dow\n",
       "Thursday     458\n",
       "Wednesday    367\n",
       "Monday       262\n",
       "Tuesday      242\n",
       "Friday       200\n",
       "Sunday       163\n",
       "Name: invoice, dtype: int64"
      ]
     },
     "execution_count": 28,
     "metadata": {},
     "output_type": "execute_result"
    }
   ],
   "source": [
    "top_day_2010 = data2010.groupby('dow').invoice.nunique().sort_values(ascending=False).head(7)\n",
    "top_day_2010"
   ]
  },
  {
   "cell_type": "code",
   "execution_count": 29,
   "id": "4276a838",
   "metadata": {},
   "outputs": [
    {
     "data": {
      "text/plain": [
       "1899.0"
      ]
     },
     "execution_count": 29,
     "metadata": {},
     "output_type": "execute_result"
    }
   ],
   "source": [
    "#Total order value field is the price * quantity. \n",
    "#Identify customers that have spent more than the average user.\n",
    "\n",
    "#who spends more than avg_order_value\n",
    "\n",
    "#for average we use mean\n",
    "avg_per_customer = data.groupby('customer_id').total_order_value.sum().mean().round()\n",
    "avg_per_customer"
   ]
  },
  {
   "cell_type": "code",
   "execution_count": 30,
   "id": "ea7750c6",
   "metadata": {},
   "outputs": [
    {
     "data": {
      "text/plain": [
       "customer_id\n",
       "u12346    False\n",
       "u12347     True\n",
       "u12348    False\n",
       "u12349    False\n",
       "u1235     False\n",
       "          ...  \n",
       "u1828     False\n",
       "u18281    False\n",
       "u18282    False\n",
       "u18283     True\n",
       "u18287    False\n",
       "Name: total_order_value, Length: 4363, dtype: bool"
      ]
     },
     "execution_count": 30,
     "metadata": {},
     "output_type": "execute_result"
    }
   ],
   "source": [
    "#orders above average \n",
    "above_avg = data.groupby('customer_id').total_order_value.sum() > avg_per_customer\n",
    "above_avg"
   ]
  },
  {
   "cell_type": "code",
   "execution_count": 31,
   "id": "bfcd0615",
   "metadata": {},
   "outputs": [
    {
     "data": {
      "text/plain": [
       "customer_id\n",
       "u12346       0.00\n",
       "u12347    4310.00\n",
       "u12348    1437.24\n",
       "u12349    1457.55\n",
       "u1235      294.40\n",
       "           ...   \n",
       "u1828      180.60\n",
       "u18281      80.82\n",
       "u18282     176.60\n",
       "u18283    2039.58\n",
       "u18287    1837.28\n",
       "Name: total_order_value, Length: 4363, dtype: float64"
      ]
     },
     "execution_count": 31,
     "metadata": {},
     "output_type": "execute_result"
    }
   ],
   "source": [
    "# Create a Series with total order value per customer\n",
    "total_order_values = data.groupby('customer_id').total_order_value.sum()\n",
    "total_order_values"
   ]
  },
  {
   "cell_type": "code",
   "execution_count": 32,
   "id": "a6850e5d",
   "metadata": {},
   "outputs": [
    {
     "data": {
      "text/plain": [
       "Index(['u12347', 'u12356', 'u12357', 'u12359', 'u1236', 'u12362', 'u1237',\n",
       "       'u12378', 'u1238', 'u12388',\n",
       "       ...\n",
       "       'u18231', 'u18241', 'u18242', 'u18245', 'u18251', 'u18257', 'u18259',\n",
       "       'u1826', 'u18272', 'u18283'],\n",
       "      dtype='object', name='customer_id', length=901)"
      ]
     },
     "execution_count": 32,
     "metadata": {},
     "output_type": "execute_result"
    }
   ],
   "source": [
    "# Create a boolean mask for customers with order value greater than average\n",
    "above_avg_customers = total_order_values[total_order_values > avg_per_customer].index\n",
    "above_avg_customers"
   ]
  },
  {
   "cell_type": "code",
   "execution_count": 33,
   "id": "38f1db6e",
   "metadata": {},
   "outputs": [
    {
     "data": {
      "text/html": [
       "<div>\n",
       "<style scoped>\n",
       "    .dataframe tbody tr th:only-of-type {\n",
       "        vertical-align: middle;\n",
       "    }\n",
       "\n",
       "    .dataframe tbody tr th {\n",
       "        vertical-align: top;\n",
       "    }\n",
       "\n",
       "    .dataframe thead th {\n",
       "        text-align: right;\n",
       "    }\n",
       "</style>\n",
       "<table border=\"1\" class=\"dataframe\">\n",
       "  <thead>\n",
       "    <tr style=\"text-align: right;\">\n",
       "      <th></th>\n",
       "      <th>invoice</th>\n",
       "      <th>stock_code</th>\n",
       "      <th>description</th>\n",
       "      <th>price</th>\n",
       "      <th>quantity</th>\n",
       "      <th>total_order_value</th>\n",
       "      <th>invoice_date</th>\n",
       "      <th>customer_id</th>\n",
       "      <th>country</th>\n",
       "      <th>year</th>\n",
       "      <th>month</th>\n",
       "      <th>dow</th>\n",
       "    </tr>\n",
       "  </thead>\n",
       "  <tbody>\n",
       "    <tr>\n",
       "      <th>0</th>\n",
       "      <td>536381</td>\n",
       "      <td>37444A</td>\n",
       "      <td>YELLOW BREAKFAST CUP AND SAUCER</td>\n",
       "      <td>2.95</td>\n",
       "      <td>1</td>\n",
       "      <td>2.95</td>\n",
       "      <td>2010-12-01 09:41:00</td>\n",
       "      <td>u15311</td>\n",
       "      <td>United Kingdom</td>\n",
       "      <td>2010</td>\n",
       "      <td>12</td>\n",
       "      <td>Wednesday</td>\n",
       "    </tr>\n",
       "    <tr>\n",
       "      <th>2</th>\n",
       "      <td>536390</td>\n",
       "      <td>22960</td>\n",
       "      <td>JAM MAKING SET WITH JARS</td>\n",
       "      <td>3.75</td>\n",
       "      <td>12</td>\n",
       "      <td>45.00</td>\n",
       "      <td>2010-12-01 10:19:00</td>\n",
       "      <td>u17511</td>\n",
       "      <td>United Kingdom</td>\n",
       "      <td>2010</td>\n",
       "      <td>12</td>\n",
       "      <td>Wednesday</td>\n",
       "    </tr>\n",
       "    <tr>\n",
       "      <th>4</th>\n",
       "      <td>536396</td>\n",
       "      <td>82494L</td>\n",
       "      <td>WOODEN FRAME ANTIQUE WHITE</td>\n",
       "      <td>2.55</td>\n",
       "      <td>12</td>\n",
       "      <td>30.60</td>\n",
       "      <td>2010-12-01 10:51:00</td>\n",
       "      <td>u1785</td>\n",
       "      <td>United Kingdom</td>\n",
       "      <td>2010</td>\n",
       "      <td>12</td>\n",
       "      <td>Wednesday</td>\n",
       "    </tr>\n",
       "    <tr>\n",
       "      <th>7</th>\n",
       "      <td>536412</td>\n",
       "      <td>22961</td>\n",
       "      <td>JAM MAKING SET PRINTED</td>\n",
       "      <td>1.45</td>\n",
       "      <td>24</td>\n",
       "      <td>34.80</td>\n",
       "      <td>2010-12-01 11:49:00</td>\n",
       "      <td>u1792</td>\n",
       "      <td>United Kingdom</td>\n",
       "      <td>2010</td>\n",
       "      <td>12</td>\n",
       "      <td>Wednesday</td>\n",
       "    </tr>\n",
       "    <tr>\n",
       "      <th>16</th>\n",
       "      <td>536370</td>\n",
       "      <td>22900</td>\n",
       "      <td>SET 2 TEA TOWELS I LOVE LONDON</td>\n",
       "      <td>2.95</td>\n",
       "      <td>24</td>\n",
       "      <td>70.80</td>\n",
       "      <td>2010-12-01 08:45:00</td>\n",
       "      <td>u12583</td>\n",
       "      <td>France</td>\n",
       "      <td>2010</td>\n",
       "      <td>12</td>\n",
       "      <td>Wednesday</td>\n",
       "    </tr>\n",
       "    <tr>\n",
       "      <th>...</th>\n",
       "      <td>...</td>\n",
       "      <td>...</td>\n",
       "      <td>...</td>\n",
       "      <td>...</td>\n",
       "      <td>...</td>\n",
       "      <td>...</td>\n",
       "      <td>...</td>\n",
       "      <td>...</td>\n",
       "      <td>...</td>\n",
       "      <td>...</td>\n",
       "      <td>...</td>\n",
       "      <td>...</td>\n",
       "    </tr>\n",
       "    <tr>\n",
       "      <th>399833</th>\n",
       "      <td>581477</td>\n",
       "      <td>22457</td>\n",
       "      <td>NATURAL SLATE HEART CHALKBOARD</td>\n",
       "      <td>2.95</td>\n",
       "      <td>6</td>\n",
       "      <td>17.70</td>\n",
       "      <td>2011-12-09 08:59:00</td>\n",
       "      <td>u13426</td>\n",
       "      <td>United Kingdom</td>\n",
       "      <td>2011</td>\n",
       "      <td>12</td>\n",
       "      <td>Friday</td>\n",
       "    </tr>\n",
       "    <tr>\n",
       "      <th>399834</th>\n",
       "      <td>581486</td>\n",
       "      <td>22561</td>\n",
       "      <td>WOODEN SCHOOL COLOURING SET</td>\n",
       "      <td>1.65</td>\n",
       "      <td>12</td>\n",
       "      <td>19.80</td>\n",
       "      <td>2011-12-09 09:38:00</td>\n",
       "      <td>u17001</td>\n",
       "      <td>United Kingdom</td>\n",
       "      <td>2011</td>\n",
       "      <td>12</td>\n",
       "      <td>Friday</td>\n",
       "    </tr>\n",
       "    <tr>\n",
       "      <th>399835</th>\n",
       "      <td>581496</td>\n",
       "      <td>22721</td>\n",
       "      <td>SET OF 3 CAKE TINS SKETCHBOOK</td>\n",
       "      <td>1.95</td>\n",
       "      <td>12</td>\n",
       "      <td>23.40</td>\n",
       "      <td>2011-12-09 10:20:00</td>\n",
       "      <td>u16558</td>\n",
       "      <td>United Kingdom</td>\n",
       "      <td>2011</td>\n",
       "      <td>12</td>\n",
       "      <td>Friday</td>\n",
       "    </tr>\n",
       "    <tr>\n",
       "      <th>399836</th>\n",
       "      <td>581495</td>\n",
       "      <td>21523</td>\n",
       "      <td>DOORMAT FANCY FONT HOME SWEET HOME</td>\n",
       "      <td>7.08</td>\n",
       "      <td>10</td>\n",
       "      <td>70.80</td>\n",
       "      <td>2011-12-09 10:20:00</td>\n",
       "      <td>u14051</td>\n",
       "      <td>United Kingdom</td>\n",
       "      <td>2011</td>\n",
       "      <td>12</td>\n",
       "      <td>Friday</td>\n",
       "    </tr>\n",
       "    <tr>\n",
       "      <th>399840</th>\n",
       "      <td>581585</td>\n",
       "      <td>23356</td>\n",
       "      <td>LOVE HOT WATER BOTTLE</td>\n",
       "      <td>5.95</td>\n",
       "      <td>3</td>\n",
       "      <td>17.85</td>\n",
       "      <td>2011-12-09 12:31:00</td>\n",
       "      <td>u15804</td>\n",
       "      <td>United Kingdom</td>\n",
       "      <td>2011</td>\n",
       "      <td>12</td>\n",
       "      <td>Friday</td>\n",
       "    </tr>\n",
       "  </tbody>\n",
       "</table>\n",
       "<p>238737 rows × 12 columns</p>\n",
       "</div>"
      ],
      "text/plain": [
       "       invoice stock_code                         description  price  \\\n",
       "0       536381     37444A     YELLOW BREAKFAST CUP AND SAUCER   2.95   \n",
       "2       536390      22960            JAM MAKING SET WITH JARS   3.75   \n",
       "4       536396     82494L         WOODEN FRAME ANTIQUE WHITE    2.55   \n",
       "7       536412      22961              JAM MAKING SET PRINTED   1.45   \n",
       "16      536370      22900     SET 2 TEA TOWELS I LOVE LONDON    2.95   \n",
       "...        ...        ...                                 ...    ...   \n",
       "399833  581477      22457     NATURAL SLATE HEART CHALKBOARD    2.95   \n",
       "399834  581486      22561         WOODEN SCHOOL COLOURING SET   1.65   \n",
       "399835  581496      22721       SET OF 3 CAKE TINS SKETCHBOOK   1.95   \n",
       "399836  581495      21523  DOORMAT FANCY FONT HOME SWEET HOME   7.08   \n",
       "399840  581585      23356               LOVE HOT WATER BOTTLE   5.95   \n",
       "\n",
       "        quantity  total_order_value        invoice_date customer_id  \\\n",
       "0              1               2.95 2010-12-01 09:41:00      u15311   \n",
       "2             12              45.00 2010-12-01 10:19:00      u17511   \n",
       "4             12              30.60 2010-12-01 10:51:00       u1785   \n",
       "7             24              34.80 2010-12-01 11:49:00       u1792   \n",
       "16            24              70.80 2010-12-01 08:45:00      u12583   \n",
       "...          ...                ...                 ...         ...   \n",
       "399833         6              17.70 2011-12-09 08:59:00      u13426   \n",
       "399834        12              19.80 2011-12-09 09:38:00      u17001   \n",
       "399835        12              23.40 2011-12-09 10:20:00      u16558   \n",
       "399836        10              70.80 2011-12-09 10:20:00      u14051   \n",
       "399840         3              17.85 2011-12-09 12:31:00      u15804   \n",
       "\n",
       "               country  year  month        dow  \n",
       "0       United Kingdom  2010     12  Wednesday  \n",
       "2       United Kingdom  2010     12  Wednesday  \n",
       "4       United Kingdom  2010     12  Wednesday  \n",
       "7       United Kingdom  2010     12  Wednesday  \n",
       "16              France  2010     12  Wednesday  \n",
       "...                ...   ...    ...        ...  \n",
       "399833  United Kingdom  2011     12     Friday  \n",
       "399834  United Kingdom  2011     12     Friday  \n",
       "399835  United Kingdom  2011     12     Friday  \n",
       "399836  United Kingdom  2011     12     Friday  \n",
       "399840  United Kingdom  2011     12     Friday  \n",
       "\n",
       "[238737 rows x 12 columns]"
      ]
     },
     "execution_count": 33,
     "metadata": {},
     "output_type": "execute_result"
    }
   ],
   "source": [
    "# Filter the original data using the mask\n",
    "above_avg_data = data[data['customer_id'].isin(above_avg_customers)]\n",
    "above_avg_data"
   ]
  },
  {
   "cell_type": "code",
   "execution_count": 34,
   "id": "5e80efa5",
   "metadata": {},
   "outputs": [
    {
     "data": {
      "text/plain": [
       "customer_id\n",
       "u14911    243\n",
       "u12748    217\n",
       "u17841    169\n",
       "u14606    125\n",
       "u13089    118\n",
       "u15311    118\n",
       "u12971     88\n",
       "u13408     75\n",
       "u14646     74\n",
       "u16029     66\n",
       "u14156     65\n",
       "u13798     63\n",
       "u18102     60\n",
       "u16422     60\n",
       "u13694     57\n",
       "Name: invoice, dtype: int64"
      ]
     },
     "execution_count": 34,
     "metadata": {},
     "output_type": "execute_result"
    }
   ],
   "source": [
    "#Which customers have purchased the most (look at the frequency of orders)? \n",
    "\n",
    "data.groupby('customer_id').invoice.nunique().sort_values(ascending=False).head(15)"
   ]
  },
  {
   "cell_type": "code",
   "execution_count": 35,
   "id": "773d163f",
   "metadata": {},
   "outputs": [
    {
     "data": {
      "text/plain": [
       "customer_id\n",
       "u1268    2011-12-09 12:50:00\n",
       "u13113   2011-12-09 12:49:00\n",
       "u15804   2011-12-09 12:31:00\n",
       "u13777   2011-12-09 12:25:00\n",
       "u17581   2011-12-09 12:21:00\n",
       "u12748   2011-12-09 12:20:00\n",
       "u12713   2011-12-09 12:16:00\n",
       "u12526   2011-12-09 12:09:00\n",
       "u16705   2011-12-09 12:08:00\n",
       "u15311   2011-12-09 12:00:00\n",
       "u12662   2011-12-09 11:59:00\n",
       "u17315   2011-12-09 11:58:00\n",
       "u16626   2011-12-09 11:56:00\n",
       "u18102   2011-12-09 11:50:00\n",
       "u14446   2011-12-09 11:34:00\n",
       "u14422   2011-12-09 11:26:00\n",
       "u17754   2011-12-09 11:20:00\n",
       "u1591    2011-12-09 10:51:00\n",
       "u12985   2011-12-09 10:46:00\n",
       "u15344   2011-12-09 10:45:00\n",
       "Name: invoice_date, dtype: datetime64[ns]"
      ]
     },
     "execution_count": 35,
     "metadata": {},
     "output_type": "execute_result"
    }
   ],
   "source": [
    "#Can you say anything about customers that purchased recently\n",
    "\n",
    "recently_invoices_customer = data.groupby('customer_id').invoice_date.max().sort_values(ascending=False).head(20)\n",
    "recently_invoices_customer"
   ]
  },
  {
   "cell_type": "code",
   "execution_count": 36,
   "id": "21303665",
   "metadata": {},
   "outputs": [
    {
     "data": {
      "text/plain": [
       "description\n",
       "ALARM CLOCK BAKELIKE PINK             2011-12-09 12:50:00\n",
       "SPACEBOY LUNCH BOX                    2011-12-09 12:50:00\n",
       "CHILDRENS CUTLERY CIRCUS PARADE       2011-12-09 12:50:00\n",
       "CHILDRENS CUTLERY DOLLY GIRL          2011-12-09 12:50:00\n",
       "CHILDRENS CUTLERY SPACEBOY            2011-12-09 12:50:00\n",
       "PACK OF 20 SPACEBOY NAPKINS           2011-12-09 12:50:00\n",
       "PLASTERS IN TIN CIRCUS PARADE         2011-12-09 12:50:00\n",
       "PLASTERS IN TIN STRONGMAN             2011-12-09 12:50:00\n",
       "ALARM CLOCK BAKELIKE RED              2011-12-09 12:50:00\n",
       "CHILDRENS APRON SPACEBOY DESIGN       2011-12-09 12:50:00\n",
       "CIRCUS PARADE LUNCH BOX               2011-12-09 12:50:00\n",
       "CHILDREN'S APRON DOLLY GIRL           2011-12-09 12:50:00\n",
       "ALARM CLOCK BAKELIKE IVORY            2011-12-09 12:50:00\n",
       "ALARM CLOCK BAKELIKE GREEN            2011-12-09 12:50:00\n",
       "BAKING SET 9 PIECE RETROSPOT          2011-12-09 12:50:00\n",
       "RED RETROSPOT ROUND CAKE TINS         2011-12-09 12:49:00\n",
       "LARGE CAKE STAND  HANGING STRAWBERY   2011-12-09 12:49:00\n",
       "DOORMAT RED RETROSPOT                 2011-12-09 12:49:00\n",
       "SET OF 3 HANGING OWLS OLLIE BEAK      2011-12-09 12:49:00\n",
       "BLACK TEA TOWEL CLASSIC DESIGN        2011-12-09 12:31:00\n",
       "Name: invoice_date, dtype: datetime64[ns]"
      ]
     },
     "execution_count": 36,
     "metadata": {},
     "output_type": "execute_result"
    }
   ],
   "source": [
    "#Can you say anything about customers that purchased recently\n",
    "\n",
    "recently_invoices_description = data.groupby('description').invoice_date.max().sort_values(ascending=False).head(20)\n",
    "recently_invoices_description"
   ]
  }
 ],
 "metadata": {
  "kernelspec": {
   "display_name": "Python 3 (ipykernel)",
   "language": "python",
   "name": "python3"
  },
  "language_info": {
   "codemirror_mode": {
    "name": "ipython",
    "version": 3
   },
   "file_extension": ".py",
   "mimetype": "text/x-python",
   "name": "python",
   "nbconvert_exporter": "python",
   "pygments_lexer": "ipython3",
   "version": "3.10.9"
  }
 },
 "nbformat": 4,
 "nbformat_minor": 5
}
